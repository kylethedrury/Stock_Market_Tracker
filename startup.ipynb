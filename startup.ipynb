{
 "cells": [
  {
   "cell_type": "code",
   "execution_count": 2,
   "metadata": {
    "collapsed": true,
    "ExecuteTime": {
     "end_time": "2023-08-31T19:33:17.388715500Z",
     "start_time": "2023-08-31T19:33:17.375279600Z"
    }
   },
   "outputs": [
    {
     "ename": "SyntaxError",
     "evalue": "invalid syntax (3522581354.py, line 3)",
     "output_type": "error",
     "traceback": [
      "\u001B[1;36m  Cell \u001B[1;32mIn[2], line 3\u001B[1;36m\u001B[0m\n\u001B[1;33m    pip install requests\u001B[0m\n\u001B[1;37m        ^\u001B[0m\n\u001B[1;31mSyntaxError\u001B[0m\u001B[1;31m:\u001B[0m invalid syntax\n"
     ]
    }
   ],
   "source": [
    "# Run this cell to install the required libraries (should only have to run ONE time. this method might not work, see below)\n",
    "\n",
    "# Before running this cell, look at the bottom left corner of the window. You should see a button that says 'terminal'. Click it, and type 'pip install jupyter' into the terminal. Click enter. If you have any problems running this cell, just type all of these commands into the terminal one at a time.\n",
    "\n",
    "pip install requests\n",
    "pip install bs4\n",
    "pip install selenium\n",
    "pip install lxml\n",
    "pip install csv\n",
    "pip install matplotlib"
   ]
  },
  {
   "cell_type": "code",
   "execution_count": 27,
   "outputs": [],
   "source": [
    "# Import the required libraries (run each time you close and open this Notebook)\n",
    "\n",
    "import requests as req\n",
    "from bs4 import BeautifulSoup as soup\n",
    "import selenium as sel\n",
    "from lxml import etree\n",
    "from selenium import webdriver\n",
    "from selenium.webdriver.common.by import By\n",
    "from selenium.webdriver.chrome.service import Service\n",
    "import csv\n",
    "import matplotlib.pyplot as plt\n",
    "import os"
   ],
   "metadata": {
    "collapsed": false,
    "ExecuteTime": {
     "end_time": "2023-09-02T19:08:01.556148900Z",
     "start_time": "2023-09-02T19:08:01.539883200Z"
    }
   }
  },
  {
   "cell_type": "code",
   "execution_count": 48,
   "outputs": [],
   "source": [
    "# Look to your left. You should see a txt file by the name of \"sectors\". In this file, you will type, line by line, how you would like to organize your companies. For example, if you want to sort your companies among 3 sectors, (retail, finance, pharmaceuticals), you might write in 'retail' in line 1, 'finance' in line 2, and 'pharma' in line 3.\n",
    "\n",
    "# Define the path to the text file\n",
    "text_file_path = 'sectors'\n",
    "\n",
    "# Open and read the text file\n",
    "with open(text_file_path, 'r') as file:\n",
    "    # Iterate over each line\n",
    "    for line in file:\n",
    "        directory_name = './sectors_Folder/' + line.strip()\n",
    "        os.mkdir(directory_name) # Create the directory\n",
    "\n",
    "        file_name = directory_name + './company_Links.txt'\n",
    "        open(file_name, \"w\").close()    # Create text file for adding Yahoo Finance Links"
   ],
   "metadata": {
    "collapsed": false,
    "ExecuteTime": {
     "end_time": "2023-09-02T23:48:41.028440200Z",
     "start_time": "2023-09-02T23:48:41.011167Z"
    }
   }
  },
  {
   "cell_type": "code",
   "execution_count": 67,
   "outputs": [],
   "source": [
    "# You have now created subdirectories for all of your sectors. These subdirectories can be found in the directory called 'sectors_Folder'. In each subdirectory corresponding to a given sector you have named, you should see a file called 'company_Links.txt'. Here, you will copy and paste the Yahoo Finance Links to all the companies you are interested in. Copy and paste them line by line\n",
    "\n",
    "directory_path = '.\\sectors_Folder'    # directory for different sector subdirectories\n",
    "\n",
    "# Use a for loop to iterate over the subdirectories\n",
    "for subdirectory in os.listdir(directory_path):\n",
    "    subdirectory_path = os.path.join(directory_path, subdirectory)\n",
    "\n",
    "    company_Names = []\n",
    "\n",
    "    file_path = subdirectory_path + '\\company_Links.txt'     # specify file path\n",
    "\n",
    "    with open(file_path, 'r') as file:\n",
    "\n",
    "        for line in file:                         # iterate over each line\n",
    "            i = 0\n",
    "\n",
    "            for character in line:                # must find where the '?' is\n",
    "                if character == '?':\n",
    "                    break\n",
    "                i = i + 1\n",
    "\n",
    "            company_Name = line[35:i]             # save the company name\n",
    "            company_Names.append(company_Name)    # append the name to an array that holds all the names (for each sector)\n",
    "\n",
    "# I have adopted a convention where I store share price, price changes and percent changes in CSVs named\n",
    "# {company_Name}.csv, and storing volume, average volume, and market cap data in CSVs named {company_Name}_v.csv\n",
    "\n",
    "    for element in company_Names:\n",
    "        csv1 = subdirectory_path + '/' + element + '_p.csv'   # Create text file for share price, and price changes\n",
    "        csv2 = subdirectory_path + '/' + element + '_v.csv'   # Create text file for volume, avg volume,\n",
    "        open(csv1, \"w\").close()\n",
    "        open(csv2, \"w\").close()"
   ],
   "metadata": {
    "collapsed": false,
    "ExecuteTime": {
     "end_time": "2023-09-04T14:53:32.354257800Z",
     "start_time": "2023-09-04T14:53:32.334161700Z"
    }
   }
  },
  {
   "cell_type": "code",
   "execution_count": 68,
   "outputs": [
    {
     "name": "stdout",
     "output_type": "stream",
     "text": [
      ".\\sectors_Folder\\semiconductors\n"
     ]
    }
   ],
   "source": [
    "# Now that we have the CSVs for storing long-term data, we need to add the top row header to each.\n",
    "\n",
    "header1 = ['day', 'price', 'delta', 'percent']\n",
    "header2 = ['day', 'volume', 'avg', 'cap']\n",
    "\n",
    "directory_path = '.\\sectors_Folder'    # directory for different sector subdirectories\n",
    "\n",
    "for subdirectory in os.listdir(directory_path):\n",
    "    subdirectory_path = os.path.join(directory_path, subdirectory)\n",
    "    print(subdirectory_path)\n",
    "\n",
    "    for filename in os.listdir(subdirectory_path):\n",
    "        file_path = os.path.join(subdirectory_path, filename)\n",
    "\n",
    "        with open (file_path, 'w', newline='') as file:\n",
    "            writer = csv.writer(file)\n",
    "\n",
    "            if filename[-6:] == '_p.csv':\n",
    "                writer.writerow(header1)\n",
    "\n",
    "            if filename[-6:] == '_v.csv':\n",
    "                writer.writerow(header2)"
   ],
   "metadata": {
    "collapsed": false,
    "ExecuteTime": {
     "end_time": "2023-09-04T14:53:50.226345500Z",
     "start_time": "2023-09-04T14:53:50.217343700Z"
    }
   }
  },
  {
   "cell_type": "code",
   "execution_count": null,
   "outputs": [],
   "source": [
    "# You should have everything you need now. All of your sectors are in the file called 'sectors,' and your companies are located in their respective folders in the 'sectors_Folder' directory. In each of the sector directories, there is two CSVs for each company, named as such."
   ],
   "metadata": {
    "collapsed": false
   }
  }
 ],
 "metadata": {
  "kernelspec": {
   "display_name": "Python 3",
   "language": "python",
   "name": "python3"
  },
  "language_info": {
   "codemirror_mode": {
    "name": "ipython",
    "version": 2
   },
   "file_extension": ".py",
   "mimetype": "text/x-python",
   "name": "python",
   "nbconvert_exporter": "python",
   "pygments_lexer": "ipython2",
   "version": "2.7.6"
  }
 },
 "nbformat": 4,
 "nbformat_minor": 0
}
